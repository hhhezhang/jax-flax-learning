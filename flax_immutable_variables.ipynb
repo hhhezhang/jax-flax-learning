{
  "nbformat": 4,
  "nbformat_minor": 0,
  "metadata": {
    "colab": {
      "provenance": [],
      "authorship_tag": "ABX9TyNLn2+FZVidh9mnIAsGwFVi",
      "include_colab_link": true
    },
    "kernelspec": {
      "name": "python3",
      "display_name": "Python 3"
    },
    "language_info": {
      "name": "python"
    }
  },
  "cells": [
    {
      "cell_type": "markdown",
      "metadata": {
        "id": "view-in-github",
        "colab_type": "text"
      },
      "source": [
        "<a href=\"https://colab.research.google.com/github/hhhezhang/jax-flax-learning/blob/main/flax_immutable_variables.ipynb\" target=\"_parent\"><img src=\"https://colab.research.google.com/assets/colab-badge.svg\" alt=\"Open In Colab\"/></a>"
      ]
    },
    {
      "cell_type": "code",
      "execution_count": 66,
      "metadata": {
        "id": "Q8z7kN8GXQk1"
      },
      "outputs": [],
      "source": [
        "import flax.linen as nn\n",
        "import jax\n",
        "import jax.numpy as jnp\n",
        "import numpy as np"
      ]
    },
    {
      "cell_type": "code",
      "source": [
        "def complicated_values(shape):\n",
        "    print(\"Calling complicated_values.\")\n",
        "    values = np.zeros(np.prod(shape))\n",
        "    for i in range(values.size):\n",
        "        values[i] = i ** 2\n",
        "    return values.reshape(shape)"
      ],
      "metadata": {
        "id": "SEL47lpWt_iq"
      },
      "execution_count": 109,
      "outputs": []
    },
    {
      "cell_type": "markdown",
      "source": [
        "This example illustrate a expensive approach where the complicated init function get called multiple times."
      ],
      "metadata": {
        "id": "heo9mQlix3MY"
      }
    },
    {
      "cell_type": "code",
      "source": [
        "class MyModelExpensive(nn.Module):\n",
        "\n",
        "    @nn.compact\n",
        "    def __call__(self, x, train=False):\n",
        "        immutable_x = self.param(\"x\", lambda rng, shape: complicated_values(shape), x.shape[1:])\n",
        "        jax.lax.stop_gradient(immutable_x)\n",
        "        return x * immutable_x\n",
        "\n",
        "model_exp = MyModelExpensive()\n",
        "vars = model_exp.init(jax.random.key(0), jnp.ones((3, 2)))\n",
        "print(vars)\n",
        "output = model_exp.apply(vars, jnp.ones((3, 2)))\n",
        "output = model_exp.apply(vars, jnp.ones((3, 2)))"
      ],
      "metadata": {
        "colab": {
          "base_uri": "https://localhost:8080/"
        },
        "id": "XRqOm6b-vyuR",
        "outputId": "b2f4624b-7df0-4807-bf17-f7e952411485"
      },
      "execution_count": 180,
      "outputs": [
        {
          "output_type": "stream",
          "name": "stdout",
          "text": [
            "Calling complicated_values.\n",
            "{'params': {'x': array([0., 1.])}}\n",
            "Calling complicated_values.\n",
            "Calling complicated_values.\n"
          ]
        }
      ]
    },
    {
      "cell_type": "markdown",
      "source": [
        "This approach is better by compiling with jit."
      ],
      "metadata": {
        "id": "lP7vWFecx_dX"
      }
    },
    {
      "cell_type": "code",
      "source": [
        "@jax.jit\n",
        "def apply_model(x):\n",
        "    print(\"Calling jit model.\")\n",
        "    return model_exp.apply(vars, x)\n",
        "\n",
        "output = apply_model(jnp.ones((3, 2)))\n",
        "output = apply_model(jnp.ones((3, 2)))\n",
        "output = apply_model(jnp.ones((3, 2)))"
      ],
      "metadata": {
        "colab": {
          "base_uri": "https://localhost:8080/",
          "height": 0
        },
        "id": "cG996y64wvFh",
        "outputId": "e7df1935-1603-4bda-c6b7-7b136f54cc4a"
      },
      "execution_count": 177,
      "outputs": [
        {
          "output_type": "stream",
          "name": "stdout",
          "text": [
            "Calling jit model.\n",
            "Calling complicated_values.\n"
          ]
        }
      ]
    },
    {
      "cell_type": "markdown",
      "source": [
        "We try to use variable instead of param to initialize it."
      ],
      "metadata": {
        "id": "0-C1JNA6yGy3"
      }
    },
    {
      "cell_type": "code",
      "source": [
        "class MyModel(nn.Module):\n",
        "\n",
        "    @nn.compact\n",
        "    def __call__(self, x, train=False):\n",
        "        is_initialized = self.has_variable('immutable', 'x')\n",
        "        immutable_x = self.variable(\"immutable\", \"x\", lambda shape: jnp.zeros(shape), x.shape[1:])\n",
        "        immutable_x\n",
        "        if not is_initialized:\n",
        "            immutable_x.value = complicated_values(immutable_x.value.shape)\n",
        "        return x * immutable_x.value\n",
        "\n",
        "model = MyModel()\n",
        "vars = model.init(jax.random.key(0), jnp.ones((3, 2)))\n",
        "print(vars)\n",
        "output = model.apply(vars, jnp.ones((3, 2)))\n",
        "output = model.apply(vars, jnp.ones((3, 2)))"
      ],
      "metadata": {
        "colab": {
          "base_uri": "https://localhost:8080/"
        },
        "id": "2pc3YtmZXfgA",
        "outputId": "67ac0e0f-86b5-4c44-94e5-6ed9a6bd955f"
      },
      "execution_count": 187,
      "outputs": [
        {
          "output_type": "stream",
          "name": "stdout",
          "text": [
            "Calling complicated_values.\n",
            "{'immutable': {'x': array([0., 1.])}}\n"
          ]
        }
      ]
    },
    {
      "cell_type": "markdown",
      "source": [
        "A final simplified version."
      ],
      "metadata": {
        "id": "Ohial23ryMJo"
      }
    },
    {
      "cell_type": "code",
      "source": [
        "class MyModel(nn.Module):\n",
        "\n",
        "    @nn.compact\n",
        "    def __call__(self, x, train=False):\n",
        "        immutable_x = self.variable(\"immutable\", \"x\", complicated_values, x.shape[1:])\n",
        "        return x * immutable_x.value\n",
        "\n",
        "model = MyModel()\n",
        "vars = model.init(jax.random.key(0), jnp.ones((3, 2)))\n",
        "print(vars)\n",
        "output = model.apply(vars, jnp.ones((3, 2)))\n",
        "output = model.apply(vars, jnp.ones((3, 2)))"
      ],
      "metadata": {
        "colab": {
          "base_uri": "https://localhost:8080/"
        },
        "id": "UOK1Iu2Et7nD",
        "outputId": "51532316-075f-4c8f-844f-e4b14420cff2"
      },
      "execution_count": 188,
      "outputs": [
        {
          "output_type": "stream",
          "name": "stdout",
          "text": [
            "Calling complicated_values.\n",
            "{'immutable': {'x': array([0., 1.])}}\n"
          ]
        }
      ]
    }
  ]
}